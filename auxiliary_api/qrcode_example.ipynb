{
 "cells": [
  {
   "cell_type": "markdown",
   "metadata": {},
   "source": [
    "# Generating and Reading QR codes"
   ]
  },
  {
   "cell_type": "code",
   "execution_count": 2,
   "metadata": {},
   "outputs": [],
   "source": [
    "import qrcode\n",
    "qr = qrcode.QRCode(\n",
    "    version=1,\n",
    "    error_correction=qrcode.constants.ERROR_CORRECT_L,\n",
    "    box_size=10,\n",
    "    border=4,\n",
    ")\n",
    "qr.add_data({\n",
    "    \"warehouse_id\" : 1,\n",
    "    \"quantity\" : 2,\n",
    "    \"shelf_price\" : 10.00 \n",
    "})\n",
    "qr.make(fit=True)\n",
    "\n",
    "img = qr.make_image(fill_color=\"black\", back_color=\"white\")\n",
    "\n",
    "img.save(\"/home/cernerrood246/University/PWP/Project/PWP_CrustyCrabs/auxiliary_api/WrongSchema.png\")"
   ]
  },
  {
   "cell_type": "code",
   "execution_count": 3,
   "metadata": {},
   "outputs": [
    {
     "data": {
      "text/plain": [
       "{'item_id': 1,\n",
       " 'warehouse_id': 1,\n",
       " 'quantity': 10,\n",
       " 'shelf_price': 999.99,\n",
       " 'item_name': 'Laptop-1'}"
      ]
     },
     "execution_count": 3,
     "metadata": {},
     "output_type": "execute_result"
    }
   ],
   "source": [
    "from qreader import QReader\n",
    "import cv2\n",
    "import ast\n",
    "\n",
    "# Create a QReader instance\n",
    "qreader = QReader()\n",
    "\n",
    "# Get the image that contains the QR code\n",
    "image = cv2.cvtColor(cv2.imread(\"QrExample.png\"), cv2.COLOR_BGR2RGB)\n",
    "\n",
    "# Use the detect_and_decode function to get the decoded QR data\n",
    "decoded_text = qreader.detect_and_decode(image=image)[0]\n",
    "decoded_dict = ast.literal_eval(decoded_text)\n",
    "decoded_dict"
   ]
  },
  {
   "cell_type": "code",
   "execution_count": null,
   "metadata": {},
   "outputs": [],
   "source": []
  }
 ],
 "metadata": {
  "kernelspec": {
   "display_name": "PWP",
   "language": "python",
   "name": "python3"
  },
  "language_info": {
   "codemirror_mode": {
    "name": "ipython",
    "version": 3
   },
   "file_extension": ".py",
   "mimetype": "text/x-python",
   "name": "python",
   "nbconvert_exporter": "python",
   "pygments_lexer": "ipython3",
   "version": "3.11.7"
  }
 },
 "nbformat": 4,
 "nbformat_minor": 2
}
